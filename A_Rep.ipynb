{
  "nbformat": 4,
  "nbformat_minor": 0,
  "metadata": {
    "colab": {
      "provenance": [],
      "toc_visible": true
    },
    "kernelspec": {
      "name": "python3",
      "display_name": "Python 3"
    },
    "language_info": {
      "name": "python"
    }
  },
  "cells": [
    {
      "cell_type": "markdown",
      "source": [
        "# New section"
      ],
      "metadata": {
        "id": "ZfIn3mtQGO47"
      }
    },
    {
      "cell_type": "code",
      "source": [
        "import heapq\n",
        "\n",
        "\n",
        "graph = {\n",
        "    \"Tokyo\": {\"Paris\": 270, \"South Africa\": 180},\n",
        "    \"Paris\": {\"Tokyo\": 270, \"New york\": 190},\n",
        "    \"South Africa\": {\"Tokyo\": 180, \"Uganda\": 220},\n",
        "    \"Uganda\": {\"South Africa\": 220, \"Moscow\": 880},\n",
        "    \"New york\": {\"Paris\": 190},\n",
        "    \"Moscow\": {\"Uganda\": 880}\n",
        "}\n",
        "\n",
        "\n",
        "heuristic = {\n",
        "    \"Tokyo\": 1210,\n",
        "    \"Paris\": 1100,\n",
        "    \"South Africa\": 1050,\n",
        "    \"Uganda\": 880,\n",
        "    \"New york\": 1250,\n",
        "    \"Moscow\": 0\n",
        "}\n",
        "\n",
        "def a_star(graph, start, goal, heuristic):\n",
        "    \"\"\"\n",
        "    A* search returns (path, total_cost) or (None, inf) if no path found.\n",
        "    We store paths in the priority heapq together with their f-cost = g + h.\n",
        "    \"\"\"\n",
        "    open_list = []\n",
        "\n",
        "    heapq.heappush(open_list, (heuristic[start], [start]))\n",
        "    g_costs = {start: 0}\n",
        "    closed_set = set()\n",
        "\n",
        "\n",
        "    while open_list:\n",
        "        f, path = heapq.heappop(open_list)\n",
        "        node = path[-1]\n",
        "\n",
        "\n",
        "        if node == goal:\n",
        "            return path, g_costs[node]\n",
        "\n",
        "\n",
        "        if node in closed_set:\n",
        "            continue\n",
        "\n",
        "        closed_set.add(node)\n",
        "\n",
        "        for neighbor, cost in graph[node].items():\n",
        "            tentative_g = g_costs[node] + cost\n",
        "\n",
        "\n",
        "            if neighbor not in g_costs or tentative_g < g_costs[neighbor]:\n",
        "                g_costs[neighbor] = tentative_g\n",
        "                f_cost = tentative_g + heuristic.get(neighbor, float('inf'))\n",
        "                new_path = path + [neighbor]\n",
        "                heapq.heappush(open_list, (f_cost, new_path))\n",
        "\n",
        "\n",
        "    return None, float('inf')\n",
        "\n",
        "\n",
        "if __name__ == \"__main__\":\n",
        "    start_city = \"Tokyo\"\n",
        "    goal_city = \"Moscow\"\n",
        "    path, cost = a_star(graph, start_city, goal_city, heuristic)\n",
        "    print(\"A* path:\", path)\n",
        "    print(\"Total cost:\", cost)\n"
      ],
      "metadata": {
        "colab": {
          "base_uri": "https://localhost:8080/"
        },
        "id": "oL9OvMsGK4UQ",
        "outputId": "de37d2d6-1593-489b-d507-9ecbc00611dd"
      },
      "execution_count": 13,
      "outputs": [
        {
          "output_type": "stream",
          "name": "stdout",
          "text": [
            "A* path: ['Tokyo', 'South Africa', 'Uganda', 'Moscow']\n",
            "Total cost: 1280\n"
          ]
        }
      ]
    },
    {
      "cell_type": "markdown",
      "source": [
        "# **Water Jug Q/A**"
      ],
      "metadata": {
        "id": "mOKlx0BugERs"
      }
    },
    {
      "cell_type": "markdown",
      "source": [
        "**Q1:** Compare the solution paths found by BFS, DFS, and A*.\n",
        "**Answer:**\n",
        "BFS Solution\n",
        "(0, 0)\n",
        "(4, 0)\n",
        "(1, 3)\n",
        "\n",
        "DFS Solution\n",
        "(0, 0)\n",
        "(0, 3)\n",
        "(3, 0)\n",
        "(3, 3)\n",
        "(4, 2)\n",
        "(4, 0)\n",
        "(1, 3)\n",
        "\n",
        "A* solution\n",
        "(0, 0)\n",
        "(4, 0)\n",
        "(1, 3)\n",
        "\n",
        "\n",
        "\n",
        "**Q2:** Which algorithm gives the shortest path? Why?\n",
        "**Answer:**BFS and A* give the shortest path.\n",
        "\n",
        "BFS explores level by level, so the first time it finds the goal, it guarantees the minimum number of steps.\n",
        "\n",
        "A* also finds the shortest path here because the heuristic is admissible (it never overestimates the distance to the goal).\n",
        "\n",
        " DFS does not guarantee the shortest path, it just finds a path. Thats why it gave a longer sequence.\n",
        "\n",
        " **Q3:**Which algorithm is more efficient in terms of time and memory?\n",
        "** Answer:**\n",
        "Efficiency depends on time and memory:\n",
        "\n",
        "**BFS**\n",
        "\n",
        "Time: May expand many nodes because it explores all states level by level.\n",
        "\n",
        "Memory: Uses a queue that can hold many nodes (can blow up in large state spaces).\n",
        "\n",
        "Strength: Guarantees shortest path.\n",
        "\n",
        "**DFS**\n",
        "\n",
        "Time: Can sometimes find a solution quickly, but not guaranteed.\n",
        "\n",
        "Memory: Uses a stack, which is more memory efficient than BFS because it doesn’t store entire levels at once.\n",
        "\n",
        "Weakness: May explore deep unnecessary paths, doesn’t guarantee shortest path.\n",
        "\n",
        "**A(*)**\n",
        "\n",
        "Time: Usually explores fewer nodes than BFS if the heuristic is good.\n",
        "\n",
        "Memory: Needs to keep track of open and closed sets (priority queue + visited costs), so can use more memory than DFS.\n",
        "\n",
        "Strength: Combines BFS’s optimality with better efficiency (if heuristic is admissible and informative)."
      ],
      "metadata": {
        "id": "8kFXD5TcgLCG"
      }
    }
  ]
}