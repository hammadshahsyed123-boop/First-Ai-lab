{
  "nbformat": 4,
  "nbformat_minor": 0,
  "metadata": {
    "colab": {
      "provenance": [],
      "toc_visible": true
    },
    "kernelspec": {
      "name": "python3",
      "display_name": "Python 3"
    },
    "language_info": {
      "name": "python"
    }
  },
  "cells": [
    {
      "cell_type": "markdown",
      "source": [
        "# Alpha Beta Prunning"
      ],
      "metadata": {
        "id": "6iPQGKa8kNvi"
      }
    },
    {
      "cell_type": "code",
      "source": [
        "def alpha_beta_pruning(depth, nodeIndex, isMax, values, alpha, beta, maxDepth):\n",
        "    # Base case: when we reach a leaf node\n",
        "    if depth == maxDepth:\n",
        "        return values[nodeIndex]\n",
        "\n",
        "    if isMax:\n",
        "        best = float('-inf')\n",
        "\n",
        "        # Recur for left and right children\n",
        "        for i in range(2):\n",
        "            val = alpha_beta_pruning(depth + 1, nodeIndex * 2 + i, False, values, alpha, beta, maxDepth)\n",
        "            best = max(best, val)\n",
        "            alpha = max(alpha, best)\n",
        "\n",
        "            # Alpha Beta Pruning condition\n",
        "            if beta <= alpha:\n",
        "                break\n",
        "\n",
        "        return best\n",
        "    else:\n",
        "        best = float('inf')\n",
        "\n",
        "        # Recur for left and right children\n",
        "        for i in range(2):\n",
        "            val = alpha_beta_pruning(depth + 1, nodeIndex * 2 + i, True, values, alpha, beta, maxDepth)\n",
        "            best = min(best, val)\n",
        "            beta = min(beta, best)\n",
        "\n",
        "            # Alpha Beta Pruning condition\n",
        "            if beta <= alpha:\n",
        "                break\n",
        "\n",
        "        return best\n",
        "\n",
        "        values = [10, 15, 20, 25, 5, 8, 12, 18]\n",
        "maxDepth = 3\n",
        "\n",
        "# Initial alpha and beta values\n",
        "alpha = float('-inf')\n",
        "beta = float('inf')\n",
        "\n",
        "# Root node call\n",
        "print(\"The optimal value is:\", alpha_beta_pruning(0, 0, True, values, alpha, beta, maxDepth))"
      ],
      "metadata": {
        "colab": {
          "base_uri": "https://localhost:8080/"
        },
        "id": "qP2MzPxlkSkC",
        "outputId": "16dde3da-90a7-475b-ec43-a7172c30e4b9"
      },
      "execution_count": 4,
      "outputs": [
        {
          "output_type": "stream",
          "name": "stdout",
          "text": [
            "The optimal value is: 15\n"
          ]
        }
      ]
    }
  ]
}