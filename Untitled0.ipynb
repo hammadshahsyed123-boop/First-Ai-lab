{
  "nbformat": 4,
  "nbformat_minor": 0,
  "metadata": {
    "colab": {
      "provenance": [],
      "toc_visible": true
    },
    "kernelspec": {
      "name": "python3",
      "display_name": "Python 3"
    },
    "language_info": {
      "name": "python"
    }
  },
  "cells": [
    {
      "cell_type": "markdown",
      "source": [
        "# Student Info Dictionary\n"
      ],
      "metadata": {
        "id": "nNmdqCU9YG4a"
      }
    },
    {
      "cell_type": "code",
      "source": [
        "\n",
        "student = {\n",
        "    \"name\": \"Ali\",\n",
        "    \"age\": 21,\n",
        "    \"roll_number\": \"BSC-123\",\n",
        "    \"grade\": \"B\"\n",
        "}\n",
        "\n",
        "# 1. Print keys and values\n",
        "print(\"Keys:\", student.keys())\n",
        "print(\"Values:\", student.values())\n",
        "\n",
        "\n",
        "student[\"grade\"] = \"A\"\n",
        "print(\"Updated grade:\", student[\"grade\"])\n",
        "\n",
        "\n",
        "student[\"email\"] = \"ali@example.com\"\n",
        "print(\"After adding email:\", student)\n",
        "\n",
        "del student[\"roll_number\"]\n",
        "print(\"After deleting roll_number:\", student)\n"
      ],
      "metadata": {
        "colab": {
          "base_uri": "https://localhost:8080/"
        },
        "id": "xnQikhF2bB-Q",
        "outputId": "0a0c153f-5147-4cef-f811-d2e38212dcc8"
      },
      "execution_count": 1,
      "outputs": [
        {
          "output_type": "stream",
          "name": "stdout",
          "text": [
            "Keys: dict_keys(['name', 'age', 'roll_number', 'grade'])\n",
            "Values: dict_values(['Ali', 21, 'BSC-123', 'B'])\n",
            "Updated grade: A\n",
            "After adding email: {'name': 'Ali', 'age': 21, 'roll_number': 'BSC-123', 'grade': 'A', 'email': 'ali@example.com'}\n",
            "After deleting roll_number: {'name': 'Ali', 'age': 21, 'grade': 'A', 'email': 'ali@example.com'}\n"
          ]
        }
      ]
    },
    {
      "cell_type": "markdown",
      "source": [
        "# Line Plot Matplotlib"
      ],
      "metadata": {
        "id": "N4zdERAy1b_0"
      }
    },
    {
      "cell_type": "code",
      "source": [
        "import matplotlib.pyplot as plt\n",
        "\n",
        "# Data\n",
        "X = [1, 2, 3, 4, 5]\n",
        "Y = [2, 4, 6, 8, 10]\n",
        "\n",
        "# Create plot\n",
        "plt.plot(X, Y, marker='o')\n",
        "plt.title(\"Simple Line Plot\")\n",
        "plt.xlabel(\"X-axis\")\n",
        "plt.ylabel(\"Y-axis\")\n",
        "plt.grid(True)\n",
        "plt.show()\n"
      ],
      "metadata": {
        "colab": {
          "base_uri": "https://localhost:8080/",
          "height": 472
        },
        "id": "L5_UJzhU1iuz",
        "outputId": "f40786c6-aa88-4408-8dc8-4962f1d10aea"
      },
      "execution_count": 1,
      "outputs": [
        {
          "output_type": "display_data",
          "data": {
            "text/plain": [
              "<Figure size 640x480 with 1 Axes>"
            ],
            "image/png": "[encoded data removed]"
          },
          "metadata": {}
        }
      ]
    },
    {
      "cell_type": "markdown",
      "source": [
        "# Water Jug Problem using BFS & DFS"
      ],
      "metadata": {
        "id": "XdBvcP8Y1lIE"
      }
    },
    {
      "cell_type": "code",
      "source": [
        "from collections import deque\n",
        "import time\n",
        "import sys\n",
        "\n",
        "JUG1 = 4  # Capacity of Jug 1\n",
        "JUG2 = 3  # Capacity of Jug 2\n",
        "GOAL = 1\n",
        "\n",
        "# BFS\n",
        "def water_jug_bfs():\n",
        "    start = (0, 0)\n",
        "    visited = set()\n",
        "    queue = deque([[start]])\n",
        "\n",
        "    while queue:\n",
        "        path = queue.popleft()\n",
        "        state = path[-1]\n",
        "\n",
        "        if state[0] == GOAL or state[1] == GOAL:\n",
        "            return path\n",
        "\n",
        "        if state in visited:\n",
        "            continue\n",
        "        visited.add(state)\n",
        "\n",
        "        x, y = state\n",
        "        next_states = set()\n",
        "\n",
        "        # Fill Jug1 or Jug2\n",
        "        next_states.add((JUG1, y))\n",
        "        next_states.add((x, JUG2))\n",
        "        # Empty Jug1 or Jug2\n",
        "        next_states.add((0, y))\n",
        "        next_states.add((x, 0))\n",
        "        # Pour Jug1 -> Jug2\n",
        "        pour = min(x, JUG2 - y)\n",
        "        next_states.add((x - pour, y + pour))\n",
        "        # Pour Jug2 -> Jug1\n",
        "        pour = min(y, JUG1 - x)\n",
        "        next_states.add((x + pour, y - pour))\n",
        "\n",
        "        for s in next_states:\n",
        "            if s not in visited:\n",
        "                queue.append(path + [s])\n",
        "\n",
        "# DFS\n",
        "def water_jug_dfs():\n",
        "    start = (0, 0)\n",
        "    stack = [[start]]\n",
        "    visited = set()\n",
        "\n",
        "    while stack:\n",
        "        path = stack.pop()\n",
        "        state = path[-1]\n",
        "\n",
        "        if state[0] == GOAL or state[1] == GOAL:\n",
        "            return path\n",
        "\n",
        "        if state in visited:\n",
        "            continue\n",
        "        visited.add(state)\n",
        "\n",
        "        x, y = state\n",
        "        next_states = set()\n",
        "\n",
        "        next_states.add((JUG1, y))\n",
        "        next_states.add((x, JUG2))\n",
        "        next_states.add((0, y))\n",
        "        next_states.add((x, 0))\n",
        "        pour = min(x, JUG2 - y)\n",
        "        next_states.add((x - pour, y + pour))\n",
        "        pour = min(y, JUG1 - x)\n",
        "        next_states.add((x + pour, y - pour))\n",
        "\n",
        "        for s in next_states:\n",
        "            if s not in visited:\n",
        "                stack.append(path + [s])\n",
        "\n",
        "# Compare performance\n",
        "start_time = time.time()\n",
        "bfs_path = water_jug_bfs()\n",
        "bfs_time = time.time() - start_time\n",
        "bfs_memory = sys.getsizeof(bfs_path)\n",
        "\n",
        "start_time = time.time()\n",
        "dfs_path = water_jug_dfs()\n",
        "dfs_time = time.time() - start_time\n",
        "dfs_memory = sys.getsizeof(dfs_path)\n",
        "\n",
        "print(\"BFS Path:\", bfs_path)\n",
        "print(\"BFS Steps:\", len(bfs_path), \"Time:\", bfs_time, \"Memory:\", bfs_memory)\n",
        "\n",
        "print(\"DFS Path:\", dfs_path)\n",
        "print(\"DFS Steps:\", len(dfs_path), \"Time:\", dfs_time, \"Memory:\", dfs_memory)\n"
      ],
      "metadata": {
        "colab": {
          "base_uri": "https://localhost:8080/"
        },
        "id": "uAkVfztw1wZq",
        "outputId": "69bbe13e-7e94-4bda-e645-60f67f28d647"
      },
      "execution_count": 2,
      "outputs": [
        {
          "output_type": "stream",
          "name": "stdout",
          "text": [
            "BFS Path: [(0, 0), (4, 0), (1, 3)]\n",
            "BFS Steps: 3 Time: 9.608268737792969e-05 Memory: 80\n",
            "DFS Path: [(0, 0), (0, 3), (4, 3), (4, 0), (1, 3)]\n",
            "DFS Steps: 5 Time: 7.43865966796875e-05 Memory: 96\n"
          ]
        }
      ]
    },
    {
      "cell_type": "markdown",
      "source": [
        "# A Search in a Maze"
      ],
      "metadata": {
        "id": "FG5_pzVJ2dgd"
      }
    },
    {
      "cell_type": "code",
      "source": [
        "import heapq\n",
        "\n",
        "# Example Maze (0 = free, 1 = wall)\n",
        "maze = [\n",
        "    [0, 0, 0, 1],\n",
        "    [1, 0, 0, 1],\n",
        "    [0, 0, 0, 0],\n",
        "    [0, 1, 0, 0]\n",
        "]\n",
        "\n",
        "start = (0, 0)  # A\n",
        "goal = (3, 3)   # Y\n",
        "\n",
        "def heuristic(a, b):\n",
        "    return abs(a[0]-b[0]) + abs(a[1]-b[1])  # Manhattan distance\n",
        "\n",
        "def astar(maze, start, goal):\n",
        "    rows, cols = len(maze), len(maze[0])\n",
        "    open_set = []\n",
        "    heapq.heappush(open_set, (0 + heuristic(start, goal), 0, start, [start]))\n",
        "    visited = set()\n",
        "\n",
        "    while open_set:\n",
        "        f, g, current, path = heapq.heappop(open_set)\n",
        "        if current == goal:\n",
        "            return path\n",
        "\n",
        "        if current in visited:\n",
        "            continue\n",
        "        visited.add(current)\n",
        "\n",
        "        x, y = current\n",
        "        for dx, dy in [(0,1),(0,-1),(1,0),(-1,0)]:\n",
        "            nx, ny = x+dx, y+dy\n",
        "            if 0 <= nx < rows and 0 <= ny < cols and maze[nx][ny] == 0:\n",
        "                heapq.heappush(open_set, (g+1+heuristic((nx, ny), goal), g+1, (nx, ny), path+[(nx, ny)]))\n",
        "\n",
        "path = astar(maze, start, goal)\n",
        "print(\"A* Path:\", path)\n",
        "print(\"Steps:\", len(path))\n"
      ],
      "metadata": {
        "colab": {
          "base_uri": "https://localhost:8080/"
        },
        "id": "4p7IadSh2ha6",
        "outputId": "7c0058e3-d9af-429f-e86d-15d571bf4c6e"
      },
      "execution_count": 3,
      "outputs": [
        {
          "output_type": "stream",
          "name": "stdout",
          "text": [
            "A* Path: [(0, 0), (0, 1), (0, 2), (1, 2), (2, 2), (2, 3), (3, 3)]\n",
            "Steps: 7\n"
          ]
        }
      ]
    }
  ]
}