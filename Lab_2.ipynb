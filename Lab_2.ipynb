{
  "nbformat": 4,
  "nbformat_minor": 0,
  "metadata": {
    "colab": {
      "provenance": [],
      "collapsed_sections": [
        "wE1xvvZMAl2x",
        "I0yk92LqBwhT"
      ],
      "toc_visible": true
    },
    "kernelspec": {
      "name": "python3",
      "display_name": "Python 3"
    },
    "language_info": {
      "name": "python"
    }
  },
  "cells": [
    {
      "cell_type": "markdown",
      "source": [
        "# **Task 1: Lists**\n"
      ],
      "metadata": {
        "id": "wE1xvvZMAl2x"
      }
    },
    {
      "cell_type": "code",
      "execution_count": 11,
      "metadata": {
        "colab": {
          "base_uri": "https://localhost:8080/"
        },
        "id": "Tx6wmObVAVq6",
        "outputId": "6ae38546-4c02-4c04-b553-f578e84159a1"
      },
      "outputs": [
        {
          "output_type": "stream",
          "name": "stdout",
          "text": [
            "List of numbers: [12, 45, 7, 23, 89, 34, 56, 78, 10, 5]\n",
            "Sum: 359\n",
            "Maximum: 89\n",
            "Minimum: 5\n",
            "After adding 99: [12, 45, 7, 23, 89, 34, 56, 78, 10, 5, 99]\n",
            "After inserting 50 at index 2: [12, 45, 50, 7, 23, 89, 34, 56, 78, 10, 5, 99]\n",
            "After removing 23: [12, 45, 50, 7, 89, 34, 56, 78, 10, 5, 99]\n",
            "After removing element at index 4: [12, 45, 50, 7, 34, 56, 78, 10, 5, 99]\n",
            "After sorting in ascending order: [5, 7, 10, 12, 34, 45, 50, 56, 78, 99]\n",
            "After sorting in descending order: [99, 78, 56, 50, 45, 34, 12, 10, 7, 5]\n"
          ]
        }
      ],
      "source": [
        "numbers = [12, 45, 7, 23, 89, 34, 56, 78, 10, 5] # list of 10 integers\n",
        "\n",
        "\n",
        "print(\"List of numbers:\", numbers)\n",
        "print(\"Sum:\", sum(numbers)) # sum of list\n",
        "print(\"Maximum:\", max(numbers)) # max num\n",
        "print(\"Minimum:\", min(numbers))# min num\n",
        "\n",
        "# Add element at the end\n",
        "numbers.append(99)\n",
        "print(\"After adding 99:\", numbers)\n",
        "\n",
        "# Add element at specific position (index 2)\n",
        "numbers.insert(2, 50)\n",
        "print(\"After inserting 50 at index 2:\", numbers)\n",
        "\n",
        "# Remove element by value\n",
        "numbers.remove(23)\n",
        "print(\"After removing 23:\", numbers)\n",
        "\n",
        "# Remove element by index\n",
        "numbers.pop(4)   # removes element at index 4\n",
        "print(\"After removing element at index 4:\", numbers)\n",
        "\n",
        "# Sort in ascending order\n",
        "numbers.sort()\n",
        "print(\"After sorting in ascending order:\", numbers)\n",
        "\n",
        "# Sort in descending order\n",
        "numbers.sort(reverse=True)\n",
        "print(\"After sorting in descending order:\", numbers)"
      ]
    },
    {
      "cell_type": "markdown",
      "source": [
        "# **Task 2: Tuples**"
      ],
      "metadata": {
        "id": "I0yk92LqBwhT"
      }
    },
    {
      "cell_type": "code",
      "source": [
        "cars = (\"Bughatti\", \"lamborghini\", \"mercedes\", \"ferrari\", \"Porsche\")\n",
        "print(\"Original tuple:\", cars)\n",
        "\n",
        "# Convert the tuple to a list\n",
        "cars_list = list(cars)\n",
        "print(\"Converted to list:\", cars_list)\n",
        "\n",
        "# The following line will still cause an error as it's commented out and shows tuple immutability.\n",
        "# To demonstrate list mutability, you could uncomment and modify cars_list.\n",
        "# cars[0] = \"Honda\""
      ],
      "metadata": {
        "colab": {
          "base_uri": "https://localhost:8080/"
        },
        "id": "awjIBAoXEuo4",
        "outputId": "2ee818b2-b16b-4a60-a88b-c4e9b57de60c"
      },
      "execution_count": 13,
      "outputs": [
        {
          "output_type": "stream",
          "name": "stdout",
          "text": [
            "Original tuple: ('Bughatti', 'lamborghini', 'mercedes', 'ferrari', 'Porsche')\n",
            "Converted to list: ['Bughatti', 'lamborghini', 'mercedes', 'ferrari', 'Porsche']\n"
          ]
        }
      ]
    },
    {
      "cell_type": "markdown",
      "source": [
        "# **Task 3: Sets**"
      ],
      "metadata": {
        "id": "NysgxLsvEBat"
      }
    },
    {
      "cell_type": "code",
      "source": [
        "# Create two sets\n",
        "set1 = {10, 20, 30, 40, 50, 60}\n",
        "set2 = {50, 60, 70, 80, 90, 100}\n",
        "\n",
        "print(\"Set 1:\", set1)\n",
        "print(\"Set 2:\", set2)\n",
        "\n",
        "# Union of the two sets\n",
        "union_set = set1.union(set2)\n",
        "print(\"Union of Set 1 and Set 2:\", union_set)\n",
        "\n",
        "# Intersection of the two sets\n",
        "intersection_set = set1.intersection(set2)\n",
        "print(\"Intersection of Set 1 and Set 2:\", intersection_set)\n",
        "\n",
        "# Difference of the two sets (elements in set1 but not in set2)\n",
        "difference_set1 = set1.difference(set2)\n",
        "print(\"Difference (Set 1 - Set 2):\", difference_set1)\n",
        "\n",
        "# Difference of the two sets (elements in set2 but not in set1)\n",
        "difference_set2 = set2.difference(set1)\n",
        "print(\"Difference (Set 2 - Set 1):\", difference_set2)"
      ],
      "metadata": {
        "colab": {
          "base_uri": "https://localhost:8080/"
        },
        "id": "OMdkTxUIIxNO",
        "outputId": "cde67e0b-1165-4ce3-e4e3-28f70af45214"
      },
      "execution_count": 15,
      "outputs": [
        {
          "output_type": "stream",
          "name": "stdout",
          "text": [
            "Set 1: {50, 20, 40, 10, 60, 30}\n",
            "Set 2: {80, 50, 100, 70, 90, 60}\n",
            "Union of Set 1 and Set 2: {100, 70, 40, 10, 80, 50, 20, 90, 60, 30}\n",
            "Intersection of Set 1 and Set 2: {50, 60}\n",
            "Difference (Set 1 - Set 2): {40, 10, 20, 30}\n",
            "Difference (Set 2 - Set 1): {80, 90, 100, 70}\n"
          ]
        }
      ]
    },
    {
      "cell_type": "markdown",
      "source": [
        "# **Task 4: Dictionary**"
      ],
      "metadata": {
        "id": "BfCoEqUsEIP8"
      }
    },
    {
      "cell_type": "code",
      "source": [],
      "metadata": {
        "id": "YEo1fn3ZD8pN"
      },
      "execution_count": null,
      "outputs": []
    },
    {
      "cell_type": "code",
      "metadata": {
        "colab": {
          "base_uri": "https://localhost:8080/"
        },
        "id": "0f210c55",
        "outputId": "a7f8cff9-2f1e-49d3-8b01-a9450017ffed"
      },
      "source": [
        "# Create a dictionary of 5 Muslim names\n",
        "muslim_names = {\n",
        "    \"Male1\": \"Muhammad\",\n",
        "    \"Female1\": \"Aisha\",\n",
        "    \"Male2\": \"Ali\",\n",
        "    \"Female2\": \"Fatima\",\n",
        "    \"Male3\": \"Omar\"\n",
        "}\n",
        "\n",
        "print(\"Dictionary:\", muslim_names)\n",
        "\n",
        "# Print keys\n",
        "print(\"\\nKeys:\", muslim_names.keys())\n",
        "\n",
        "# Print values\n",
        "print(\"Values:\", muslim_names.values())"
      ],
      "execution_count": 16,
      "outputs": [
        {
          "output_type": "stream",
          "name": "stdout",
          "text": [
            "Dictionary: {'Male1': 'Muhammad', 'Female1': 'Aisha', 'Male2': 'Ali', 'Female2': 'Fatima', 'Male3': 'Omar'}\n",
            "\n",
            "Keys: dict_keys(['Male1', 'Female1', 'Male2', 'Female2', 'Male3'])\n",
            "Values: dict_values(['Muhammad', 'Aisha', 'Ali', 'Fatima', 'Omar'])\n"
          ]
        }
      ]
    }
  ]
}