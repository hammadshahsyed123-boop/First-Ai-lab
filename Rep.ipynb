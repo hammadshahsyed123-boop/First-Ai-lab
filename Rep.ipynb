{
  "nbformat": 4,
  "nbformat_minor": 0,
  "metadata": {
    "colab": {
      "provenance": [],
      "toc_visible": true
    },
    "kernelspec": {
      "name": "python3",
      "display_name": "Python 3"
    },
    "language_info": {
      "name": "python"
    }
  },
  "cells": [
    {
      "cell_type": "markdown",
      "source": [
        "# **Undirected Graph**"
      ],
      "metadata": {
        "id": "w7upY98rMWJ-"
      }
    },
    {
      "cell_type": "code",
      "source": [
        "from collections import deque\n",
        "\n",
        "pakistan_cities = {\n",
        "    'Haripur': ['Mansehra'],\n",
        "    'Mansehra': ['Haripur', 'Abbottabad'],\n",
        "    'Abbottabad': ['Mansehra', 'Kohat', 'Quetta'],\n",
        "    'Kohat': ['Abbottabad', 'Lahore'],\n",
        "    'Quetta': ['Abbottabad'],\n",
        "    'Lahore': ['Kohat', 'Nowshehra'],\n",
        "    'Nowshehra': ['Lahore', 'Peshawar'],\n",
        "    'Peshawar': ['Nowshehra']\n",
        "}\n",
        "\n",
        "def bfs_shortest_path(graph, start, goal):\n",
        "\n",
        "    queue = deque([[start]])\n",
        "\n",
        "    visited = set()\n",
        "\n",
        "\n",
        "    while queue:\n",
        "\n",
        "        path = queue.popleft()\n",
        "        current_city = path[-1]\n",
        "\n",
        "\n",
        "        if current_city == goal:\n",
        "            return path\n",
        "\n",
        "\n",
        "        if current_city not in visited:\n",
        "            visited.add(current_city)\n",
        "\n",
        "\n",
        "            for neighbor in graph.get(current_city, []):\n",
        "\n",
        "                new_path = list(path)\n",
        "\n",
        "                new_path.append(neighbor)\n",
        "\n",
        "                queue.append(new_path)\n",
        "\n",
        "    return None\n",
        "\n",
        "def dfs_path(graph, start, goal, path=None, visited=None):\n",
        "\n",
        "\n",
        "    \"path starts as an empty list to record the route you take.\"\n",
        "    if path is None:\n",
        "        path = []\n",
        "        \"visited starts as an empty set to remember visited places so you don't repeat them.\"\n",
        "    if visited is None:\n",
        "        visited = set()\n",
        "\n",
        "\n",
        "    path.append(start)\n",
        "\n",
        "    visited.add(start)\n",
        "\n",
        "\n",
        "    if start == goal:\n",
        "        return path\n",
        "\n",
        "\n",
        "    for neighbor in graph.get(start, []):\n",
        "        if neighbor not in visited:\n",
        "\n",
        "            result = dfs_path(graph, neighbor, goal, path.copy(), visited.copy())\n",
        "\n",
        "\n",
        "            if result:\n",
        "                return result\n",
        "\n",
        "    return None\n",
        "\n",
        "\n",
        "start_city = \"Haripur\"\n",
        "goal_city = \"Peshawar\"\n",
        "\n",
        "\n",
        "\n",
        "bfs_result = bfs_shortest_path(pakistan_cities, start_city, goal_city)\n",
        "print(\"BFS Shortest Path from Haripur to Peshawar:\", bfs_result)\n",
        "\n",
        "dfs_result = dfs_path(pakistan_cities, start_city, goal_city)\n",
        "print(\"DFS Path from Haripur to Peshawar:\", dfs_result)\n",
        "\n"
      ],
      "metadata": {
        "colab": {
          "base_uri": "https://localhost:8080/"
        },
        "id": "QEngAey3E2mf",
        "outputId": "ff0140f5-5112-47d8-be1c-a0849857e03b"
      },
      "execution_count": 7,
      "outputs": [
        {
          "output_type": "stream",
          "name": "stdout",
          "text": [
            "BFS Shortest Path from Haripur to Peshawar: ['Haripur', 'Mansehra', 'Abbottabad', 'Kohat', 'Lahore', 'Nowshehra', 'Peshawar']\n",
            "DFS Path from Haripur to Peshawar: ['Haripur', 'Mansehra', 'Abbottabad', 'Kohat', 'Lahore', 'Nowshehra', 'Peshawar']\n"
          ]
        }
      ]
    }
  ]
}