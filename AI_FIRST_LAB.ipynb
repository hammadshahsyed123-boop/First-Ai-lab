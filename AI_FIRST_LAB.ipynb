{
  "nbformat": 4,
  "nbformat_minor": 0,
  "metadata": {
    "colab": {
      "provenance": [],
      "toc_visible": true,
      "gpuType": "T4"
    },
    "kernelspec": {
      "name": "python3",
      "display_name": "Python 3"
    },
    "language_info": {
      "name": "python"
    },
    "accelerator": "GPU"
  },
  "cells": [
    {
      "cell_type": "markdown",
      "source": [],
      "metadata": {
        "id": "V0zVDSU94nm9"
      }
    },
    {
      "cell_type": "markdown",
      "source": [
        "# Hello\n"
      ],
      "metadata": {
        "id": "Xj5OuHnn4qdt"
      }
    },
    {
      "cell_type": "markdown",
      "source": [
        "Hello"
      ],
      "metadata": {
        "id": "-rsuwi8y4FB1"
      }
    },
    {
      "cell_type": "markdown",
      "source": [
        "\n",
        "\n",
        "```\n",
        "# This is formatted as code\n",
        "```\n",
        "print(\"hello world\")\n",
        "\n",
        "\n"
      ],
      "metadata": {
        "id": "NJLUnLBo4wjM"
      }
    },
    {
      "cell_type": "code",
      "source": [
        "print(\"hello world\")"
      ],
      "metadata": {
        "colab": {
          "base_uri": "https://localhost:8080/"
        },
        "id": "PPMZ3qQp5GgF",
        "outputId": "7d406055-b4b6-4093-9541-f9780dee40c7"
      },
      "execution_count": 1,
      "outputs": [
        {
          "output_type": "stream",
          "name": "stdout",
          "text": [
            "hello world\n"
          ]
        }
      ]
    },
    {
      "cell_type": "code",
      "source": [
        "a=6\n",
        "b=5\n",
        "c=a+b\n",
        "print(c)\n"
      ],
      "metadata": {
        "colab": {
          "base_uri": "https://localhost:8080/"
        },
        "id": "vN-Y1_ZT5c29",
        "outputId": "c798028f-41ef-467f-89e7-315b236b07d5"
      },
      "execution_count": 2,
      "outputs": [
        {
          "output_type": "stream",
          "name": "stdout",
          "text": [
            "11\n"
          ]
        }
      ]
    },
    {
      "cell_type": "markdown",
      "source": [
        "# Addition"
      ],
      "metadata": {
        "id": "wnXe66f85z3m"
      }
    },
    {
      "cell_type": "code",
      "source": [
        "a=25\n",
        "b=35\n",
        "c=a+b\n",
        "print(c)\n"
      ],
      "metadata": {
        "colab": {
          "base_uri": "https://localhost:8080/"
        },
        "id": "ptPS1QuH58Dd",
        "outputId": "04cda8c3-31a0-4367-f0d0-d9d566403213"
      },
      "execution_count": 3,
      "outputs": [
        {
          "output_type": "stream",
          "name": "stdout",
          "text": [
            "60\n"
          ]
        }
      ]
    },
    {
      "cell_type": "markdown",
      "source": [
        "# Subtraction"
      ],
      "metadata": {
        "id": "dA0oDVWQ6H_G"
      }
    },
    {
      "cell_type": "code",
      "source": [
        "a=50\n",
        "b=60\n",
        "c=a-b\n",
        "print(c)"
      ],
      "metadata": {
        "colab": {
          "base_uri": "https://localhost:8080/"
        },
        "id": "PyQ0qALd6Pt9",
        "outputId": "3415a8f6-0188-486c-f482-1f660f17ce56"
      },
      "execution_count": 4,
      "outputs": [
        {
          "output_type": "stream",
          "name": "stdout",
          "text": [
            "-10\n"
          ]
        }
      ]
    },
    {
      "cell_type": "markdown",
      "source": [
        "# Multiplication"
      ],
      "metadata": {
        "id": "9gWVreBv6fvO"
      }
    },
    {
      "cell_type": "code",
      "source": [
        "a=8\n",
        "b=5\n",
        "result=a*b\n",
        "print(\"Product\", result)"
      ],
      "metadata": {
        "colab": {
          "base_uri": "https://localhost:8080/"
        },
        "id": "E-XRhGpp6mJ-",
        "outputId": "b1d1cb53-7220-45c5-a05f-750d0a11a4b2"
      },
      "execution_count": 6,
      "outputs": [
        {
          "output_type": "stream",
          "name": "stdout",
          "text": [
            "Product 40\n"
          ]
        }
      ]
    },
    {
      "cell_type": "markdown",
      "source": [
        "# Division"
      ],
      "metadata": {
        "id": "eXjY6neg8jPu"
      }
    },
    {
      "cell_type": "code",
      "source": [
        "a=80\n",
        "b=10\n",
        "result=a/b\n",
        "print(\"Answer\", result)"
      ],
      "metadata": {
        "colab": {
          "base_uri": "https://localhost:8080/"
        },
        "id": "D3iQYDyi8mOe",
        "outputId": "76ac1dce-2d67-4a33-c5e4-00bcbed71387"
      },
      "execution_count": 7,
      "outputs": [
        {
          "output_type": "stream",
          "name": "stdout",
          "text": [
            "Answer 8.0\n"
          ]
        }
      ]
    }
  ]
}